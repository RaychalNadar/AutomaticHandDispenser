{
  "cells": [
    {
      "cell_type": "markdown",
      "metadata": {
        "id": "view-in-github",
        "colab_type": "text"
      },
      "source": [
        "<a href=\"https://colab.research.google.com/github/RaychalNadar/AutomaticHandDispenser/blob/main/Pulling_Tweets.ipynb\" target=\"_parent\"><img src=\"https://colab.research.google.com/assets/colab-badge.svg\" alt=\"Open In Colab\"/></a>"
      ]
    },
    {
      "cell_type": "code",
      "execution_count": 1,
      "metadata": {
        "id": "qZNCzOwpvSVv",
        "colab": {
          "base_uri": "https://localhost:8080/"
        },
        "outputId": "2c00eadb-ed6d-4617-a9d2-840da0d67cdb"
      },
      "outputs": [
        {
          "output_type": "stream",
          "name": "stdout",
          "text": [
            "Collecting git+https://github.com/tweepy/tweepy.git\n",
            "  Cloning https://github.com/tweepy/tweepy.git to /tmp/pip-req-build-7j124bzh\n",
            "  Running command git clone --filter=blob:none --quiet https://github.com/tweepy/tweepy.git /tmp/pip-req-build-7j124bzh\n",
            "  Resolved https://github.com/tweepy/tweepy.git to commit db28c0e84826485755eb7fcef0c30f75395dff5f\n",
            "  Installing build dependencies ... \u001b[?25l\u001b[?25hdone\n",
            "  Getting requirements to build wheel ... \u001b[?25l\u001b[?25hdone\n",
            "  Preparing metadata (pyproject.toml) ... \u001b[?25l\u001b[?25hdone\n",
            "Requirement already satisfied: oauthlib<4,>=3.2.0 in /usr/local/lib/python3.11/dist-packages (from tweepy==4.15.0) (3.2.2)\n",
            "Requirement already satisfied: requests<3,>=2.27.0 in /usr/local/lib/python3.11/dist-packages (from tweepy==4.15.0) (2.32.3)\n",
            "Requirement already satisfied: requests-oauthlib<3,>=1.2.0 in /usr/local/lib/python3.11/dist-packages (from tweepy==4.15.0) (2.0.0)\n",
            "Requirement already satisfied: charset-normalizer<4,>=2 in /usr/local/lib/python3.11/dist-packages (from requests<3,>=2.27.0->tweepy==4.15.0) (3.4.1)\n",
            "Requirement already satisfied: idna<4,>=2.5 in /usr/local/lib/python3.11/dist-packages (from requests<3,>=2.27.0->tweepy==4.15.0) (3.10)\n",
            "Requirement already satisfied: urllib3<3,>=1.21.1 in /usr/local/lib/python3.11/dist-packages (from requests<3,>=2.27.0->tweepy==4.15.0) (2.3.0)\n",
            "Requirement already satisfied: certifi>=2017.4.17 in /usr/local/lib/python3.11/dist-packages (from requests<3,>=2.27.0->tweepy==4.15.0) (2025.1.31)\n"
          ]
        }
      ],
      "source": [
        "pip install git+https://github.com/tweepy/tweepy.git"
      ]
    },
    {
      "cell_type": "code",
      "execution_count": 2,
      "metadata": {
        "id": "vW7t3Pj_vPxC",
        "outputId": "5b133785-1ccf-49a0-efe7-8e8d584041c1",
        "colab": {
          "base_uri": "https://localhost:8080/"
        }
      },
      "outputs": [
        {
          "output_type": "stream",
          "name": "stdout",
          "text": [
            "Status Failed On, 403 Forbidden\n",
            "453 - You currently have access to a subset of X API V2 endpoints and limited v1.1 endpoints (e.g. media post, oauth) only. If you need access to this endpoint, you may need a different access level. You can learn more here: https://developer.x.com/en/portal/product\n"
          ]
        }
      ],
      "source": [
        "import tweepy\n",
        "import pandas as pd\n",
        "\n",
        "# Your API keys (ensure they are correct)\n",
        "bearer_token = \"AAAAAAAAAAAAAAAAAAAAAKap0AEAAAAASw1zryqEXq3TquWf67CUJg0hyGE%3DoV0SAiWuZCZrHHRAKOd2aoEwUIu9kh1wNXoUR2j7O2bAgqjiAd\"\n",
        "\n",
        "# Authenticate with Twitter API v2\n",
        "client = tweepy.Client(bearer_token=bearer_token)\n",
        "\n",
        "search_query = \"ref world cup -is:retweet -is:reply -has:links\"\n",
        "no_of_tweets = 100\n",
        "\n",
        "try:\n",
        "    # Fetch tweets\n",
        "    tweets = client.search_recent_tweets(query=search_query, max_results=no_of_tweets, tweet_fields=[\"created_at\", \"public_metrics\", \"source\"], user_fields=[\"username\"], expansions=\"author_id\")\n",
        "\n",
        "    # Extract relevant data\n",
        "    attributes_container = []\n",
        "    for tweet in tweets.data:\n",
        "        attributes_container.append([\n",
        "            tweet.author_id,  # User ID (replace with actual username if needed)\n",
        "            tweet.created_at,\n",
        "            tweet.public_metrics[\"like_count\"],\n",
        "            tweet.source if \"source\" in tweet else \"N/A\",\n",
        "            tweet.text\n",
        "        ])\n",
        "\n",
        "    # Create DataFrame\n",
        "    columns = [\"User\", \"Date Created\", \"Number of Likes\", \"Source of Tweet\", \"Tweet\"]\n",
        "    tweets_df = pd.DataFrame(attributes_container, columns=columns)\n",
        "\n",
        "    print(tweets_df)\n",
        "except Exception as e:\n",
        "    print(\"Status Failed On:\", str(e))\n"
      ]
    },
    {
      "cell_type": "code",
      "execution_count": 3,
      "metadata": {
        "id": "SxsJaggQxuTZ",
        "colab": {
          "base_uri": "https://localhost:8080/",
          "height": 141
        },
        "outputId": "eb49586c-7542-4da7-b742-768326dac08b"
      },
      "outputs": [
        {
          "output_type": "error",
          "ename": "NameError",
          "evalue": "name 'tweets_df' is not defined",
          "traceback": [
            "\u001b[0;31m---------------------------------------------------------------------------\u001b[0m",
            "\u001b[0;31mNameError\u001b[0m                                 Traceback (most recent call last)",
            "\u001b[0;32m<ipython-input-3-3b784a0836c9>\u001b[0m in \u001b[0;36m<cell line: 0>\u001b[0;34m()\u001b[0m\n\u001b[0;32m----> 1\u001b[0;31m \u001b[0mtweets_df\u001b[0m\u001b[0;34m\u001b[0m\u001b[0;34m\u001b[0m\u001b[0m\n\u001b[0m",
            "\u001b[0;31mNameError\u001b[0m: name 'tweets_df' is not defined"
          ]
        }
      ],
      "source": [
        "tweets_df"
      ]
    },
    {
      "cell_type": "code",
      "source": [
        "tweets[0]"
      ],
      "metadata": {
        "colab": {
          "base_uri": "https://localhost:8080/"
        },
        "id": "utNXrcjA_MPr",
        "outputId": "e6fbedec-abde-4aac-b6d1-5465afbce879"
      },
      "execution_count": null,
      "outputs": [
        {
          "output_type": "execute_result",
          "data": {
            "text/plain": [
              "Status(_api=<tweepy.api.API object at 0x7f2c587c0b80>, _json={'created_at': 'Fri Dec 23 04:38:40 +0000 2022', 'id': 1606147252468211714, 'id_str': '1606147252468211714', 'full_text': 'Once again, the English are criticising everyone in their world cup defeat except the guy who missed a penalty that would have taken the game to extra time. They blame the ref, FIFA, Rashford, climate change but not Mr England (Kane) who hoofed that ball into the stands.', 'truncated': False, 'display_text_range': [0, 271], 'entities': {'hashtags': [], 'symbols': [], 'user_mentions': [], 'urls': []}, 'metadata': {'iso_language_code': 'en', 'result_type': 'recent'}, 'source': '<a href=\"http://twitter.com/download/android\" rel=\"nofollow\">Twitter for Android</a>', 'in_reply_to_status_id': None, 'in_reply_to_status_id_str': None, 'in_reply_to_user_id': None, 'in_reply_to_user_id_str': None, 'in_reply_to_screen_name': None, 'user': {'id': 1267956633830862850, 'id_str': '1267956633830862850', 'name': 'Muswema Mukuni Kambaki', 'screen_name': 'ChizoKambaki', 'location': 'Zambia ', 'description': 'Living in a world quite similar to this one 🌍', 'url': None, 'entities': {'description': {'urls': []}}, 'protected': False, 'followers_count': 27, 'friends_count': 482, 'listed_count': 0, 'created_at': 'Tue Jun 02 23:10:11 +0000 2020', 'favourites_count': 1026, 'utc_offset': None, 'time_zone': None, 'geo_enabled': False, 'verified': False, 'statuses_count': 560, 'lang': None, 'contributors_enabled': False, 'is_translator': False, 'is_translation_enabled': False, 'profile_background_color': 'F5F8FA', 'profile_background_image_url': None, 'profile_background_image_url_https': None, 'profile_background_tile': False, 'profile_image_url': 'http://pbs.twimg.com/profile_images/1497596010151002112/nElV5B4L_normal.jpg', 'profile_image_url_https': 'https://pbs.twimg.com/profile_images/1497596010151002112/nElV5B4L_normal.jpg', 'profile_banner_url': 'https://pbs.twimg.com/profile_banners/1267956633830862850/1669622520', 'profile_link_color': '1DA1F2', 'profile_sidebar_border_color': 'C0DEED', 'profile_sidebar_fill_color': 'DDEEF6', 'profile_text_color': '333333', 'profile_use_background_image': True, 'has_extended_profile': True, 'default_profile': True, 'default_profile_image': False, 'following': False, 'follow_request_sent': False, 'notifications': False, 'translator_type': 'none', 'withheld_in_countries': []}, 'geo': None, 'coordinates': None, 'place': None, 'contributors': None, 'is_quote_status': False, 'retweet_count': 0, 'favorite_count': 0, 'favorited': False, 'retweeted': False, 'lang': 'en'}, created_at=datetime.datetime(2022, 12, 23, 4, 38, 40, tzinfo=datetime.timezone.utc), id=1606147252468211714, id_str='1606147252468211714', full_text='Once again, the English are criticising everyone in their world cup defeat except the guy who missed a penalty that would have taken the game to extra time. They blame the ref, FIFA, Rashford, climate change but not Mr England (Kane) who hoofed that ball into the stands.', truncated=False, display_text_range=[0, 271], entities={'hashtags': [], 'symbols': [], 'user_mentions': [], 'urls': []}, metadata={'iso_language_code': 'en', 'result_type': 'recent'}, source='Twitter for Android', source_url='http://twitter.com/download/android', in_reply_to_status_id=None, in_reply_to_status_id_str=None, in_reply_to_user_id=None, in_reply_to_user_id_str=None, in_reply_to_screen_name=None, author=User(_api=<tweepy.api.API object at 0x7f2c587c0b80>, _json={'id': 1267956633830862850, 'id_str': '1267956633830862850', 'name': 'Muswema Mukuni Kambaki', 'screen_name': 'ChizoKambaki', 'location': 'Zambia ', 'description': 'Living in a world quite similar to this one 🌍', 'url': None, 'entities': {'description': {'urls': []}}, 'protected': False, 'followers_count': 27, 'friends_count': 482, 'listed_count': 0, 'created_at': 'Tue Jun 02 23:10:11 +0000 2020', 'favourites_count': 1026, 'utc_offset': None, 'time_zone': None, 'geo_enabled': False, 'verified': False, 'statuses_count': 560, 'lang': None, 'contributors_enabled': False, 'is_translator': False, 'is_translation_enabled': False, 'profile_background_color': 'F5F8FA', 'profile_background_image_url': None, 'profile_background_image_url_https': None, 'profile_background_tile': False, 'profile_image_url': 'http://pbs.twimg.com/profile_images/1497596010151002112/nElV5B4L_normal.jpg', 'profile_image_url_https': 'https://pbs.twimg.com/profile_images/1497596010151002112/nElV5B4L_normal.jpg', 'profile_banner_url': 'https://pbs.twimg.com/profile_banners/1267956633830862850/1669622520', 'profile_link_color': '1DA1F2', 'profile_sidebar_border_color': 'C0DEED', 'profile_sidebar_fill_color': 'DDEEF6', 'profile_text_color': '333333', 'profile_use_background_image': True, 'has_extended_profile': True, 'default_profile': True, 'default_profile_image': False, 'following': False, 'follow_request_sent': False, 'notifications': False, 'translator_type': 'none', 'withheld_in_countries': []}, id=1267956633830862850, id_str='1267956633830862850', name='Muswema Mukuni Kambaki', screen_name='ChizoKambaki', location='Zambia ', description='Living in a world quite similar to this one 🌍', url=None, entities={'description': {'urls': []}}, protected=False, followers_count=27, friends_count=482, listed_count=0, created_at=datetime.datetime(2020, 6, 2, 23, 10, 11, tzinfo=datetime.timezone.utc), favourites_count=1026, utc_offset=None, time_zone=None, geo_enabled=False, verified=False, statuses_count=560, lang=None, contributors_enabled=False, is_translator=False, is_translation_enabled=False, profile_background_color='F5F8FA', profile_background_image_url=None, profile_background_image_url_https=None, profile_background_tile=False, profile_image_url='http://pbs.twimg.com/profile_images/1497596010151002112/nElV5B4L_normal.jpg', profile_image_url_https='https://pbs.twimg.com/profile_images/1497596010151002112/nElV5B4L_normal.jpg', profile_banner_url='https://pbs.twimg.com/profile_banners/1267956633830862850/1669622520', profile_link_color='1DA1F2', profile_sidebar_border_color='C0DEED', profile_sidebar_fill_color='DDEEF6', profile_text_color='333333', profile_use_background_image=True, has_extended_profile=True, default_profile=True, default_profile_image=False, following=False, follow_request_sent=False, notifications=False, translator_type='none', withheld_in_countries=[]), user=User(_api=<tweepy.api.API object at 0x7f2c587c0b80>, _json={'id': 1267956633830862850, 'id_str': '1267956633830862850', 'name': 'Muswema Mukuni Kambaki', 'screen_name': 'ChizoKambaki', 'location': 'Zambia ', 'description': 'Living in a world quite similar to this one 🌍', 'url': None, 'entities': {'description': {'urls': []}}, 'protected': False, 'followers_count': 27, 'friends_count': 482, 'listed_count': 0, 'created_at': 'Tue Jun 02 23:10:11 +0000 2020', 'favourites_count': 1026, 'utc_offset': None, 'time_zone': None, 'geo_enabled': False, 'verified': False, 'statuses_count': 560, 'lang': None, 'contributors_enabled': False, 'is_translator': False, 'is_translation_enabled': False, 'profile_background_color': 'F5F8FA', 'profile_background_image_url': None, 'profile_background_image_url_https': None, 'profile_background_tile': False, 'profile_image_url': 'http://pbs.twimg.com/profile_images/1497596010151002112/nElV5B4L_normal.jpg', 'profile_image_url_https': 'https://pbs.twimg.com/profile_images/1497596010151002112/nElV5B4L_normal.jpg', 'profile_banner_url': 'https://pbs.twimg.com/profile_banners/1267956633830862850/1669622520', 'profile_link_color': '1DA1F2', 'profile_sidebar_border_color': 'C0DEED', 'profile_sidebar_fill_color': 'DDEEF6', 'profile_text_color': '333333', 'profile_use_background_image': True, 'has_extended_profile': True, 'default_profile': True, 'default_profile_image': False, 'following': False, 'follow_request_sent': False, 'notifications': False, 'translator_type': 'none', 'withheld_in_countries': []}, id=1267956633830862850, id_str='1267956633830862850', name='Muswema Mukuni Kambaki', screen_name='ChizoKambaki', location='Zambia ', description='Living in a world quite similar to this one 🌍', url=None, entities={'description': {'urls': []}}, protected=False, followers_count=27, friends_count=482, listed_count=0, created_at=datetime.datetime(2020, 6, 2, 23, 10, 11, tzinfo=datetime.timezone.utc), favourites_count=1026, utc_offset=None, time_zone=None, geo_enabled=False, verified=False, statuses_count=560, lang=None, contributors_enabled=False, is_translator=False, is_translation_enabled=False, profile_background_color='F5F8FA', profile_background_image_url=None, profile_background_image_url_https=None, profile_background_tile=False, profile_image_url='http://pbs.twimg.com/profile_images/1497596010151002112/nElV5B4L_normal.jpg', profile_image_url_https='https://pbs.twimg.com/profile_images/1497596010151002112/nElV5B4L_normal.jpg', profile_banner_url='https://pbs.twimg.com/profile_banners/1267956633830862850/1669622520', profile_link_color='1DA1F2', profile_sidebar_border_color='C0DEED', profile_sidebar_fill_color='DDEEF6', profile_text_color='333333', profile_use_background_image=True, has_extended_profile=True, default_profile=True, default_profile_image=False, following=False, follow_request_sent=False, notifications=False, translator_type='none', withheld_in_countries=[]), geo=None, coordinates=None, place=None, contributors=None, is_quote_status=False, retweet_count=0, favorite_count=0, favorited=False, retweeted=False, lang='en')"
            ]
          },
          "metadata": {},
          "execution_count": 10
        }
      ]
    },
    {
      "cell_type": "code",
      "execution_count": null,
      "metadata": {
        "id": "Z5Uwr22WSiMH"
      },
      "outputs": [],
      "source": [
        "from google.colab import files\n",
        "tweets_df.to_csv('tweets.csv')\n",
        "files.download('tweets.csv')"
      ]
    }
  ],
  "metadata": {
    "colab": {
      "provenance": [],
      "include_colab_link": true
    },
    "kernelspec": {
      "display_name": "Python 3",
      "name": "python3"
    },
    "language_info": {
      "name": "python"
    }
  },
  "nbformat": 4,
  "nbformat_minor": 0
}